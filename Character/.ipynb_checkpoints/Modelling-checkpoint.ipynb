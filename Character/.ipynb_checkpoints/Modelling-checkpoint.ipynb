{
 "cells": [
  {
   "cell_type": "code",
   "execution_count": 1,
   "id": "64b63e61",
   "metadata": {},
   "outputs": [],
   "source": [
    "import pandas as pd\n",
    "import numpy as np\n",
    "\n",
    "from PIL import Image\n",
    "\n",
    "import matplotlib.pyplot as plt\n",
    "import seaborn as sns\n",
    "\n",
    "from sklearn.svm import SVC\n",
    "from sklearn.ensemble import RandomForestClassifier\n",
    "\n",
    "from sklearn.model_selection import train_test_split, StratifiedKFold"
   ]
  },
  {
   "cell_type": "code",
   "execution_count": 2,
   "id": "a2205b36",
   "metadata": {},
   "outputs": [
    {
     "data": {
      "text/html": [
       "<div>\n",
       "<style scoped>\n",
       "    .dataframe tbody tr th:only-of-type {\n",
       "        vertical-align: middle;\n",
       "    }\n",
       "\n",
       "    .dataframe tbody tr th {\n",
       "        vertical-align: top;\n",
       "    }\n",
       "\n",
       "    .dataframe thead th {\n",
       "        text-align: right;\n",
       "    }\n",
       "</style>\n",
       "<table border=\"1\" class=\"dataframe\">\n",
       "  <thead>\n",
       "    <tr style=\"text-align: right;\">\n",
       "      <th></th>\n",
       "      <th>0</th>\n",
       "      <th>1</th>\n",
       "      <th>2</th>\n",
       "      <th>3</th>\n",
       "      <th>4</th>\n",
       "      <th>5</th>\n",
       "      <th>6</th>\n",
       "      <th>7</th>\n",
       "      <th>8</th>\n",
       "      <th>9</th>\n",
       "      <th>...</th>\n",
       "      <th>39</th>\n",
       "      <th>40</th>\n",
       "      <th>41</th>\n",
       "      <th>42</th>\n",
       "      <th>43</th>\n",
       "      <th>44</th>\n",
       "      <th>45</th>\n",
       "      <th>46</th>\n",
       "      <th>47</th>\n",
       "      <th>Label</th>\n",
       "    </tr>\n",
       "  </thead>\n",
       "  <tbody>\n",
       "    <tr>\n",
       "      <th>0</th>\n",
       "      <td>0.0</td>\n",
       "      <td>0.0</td>\n",
       "      <td>0.0</td>\n",
       "      <td>20.0</td>\n",
       "      <td>20.0</td>\n",
       "      <td>46.0</td>\n",
       "      <td>8.0</td>\n",
       "      <td>0.0</td>\n",
       "      <td>8.0</td>\n",
       "      <td>15.0</td>\n",
       "      <td>...</td>\n",
       "      <td>42.0</td>\n",
       "      <td>30.0</td>\n",
       "      <td>46.0</td>\n",
       "      <td>19.0</td>\n",
       "      <td>8.0</td>\n",
       "      <td>8.0</td>\n",
       "      <td>42.0</td>\n",
       "      <td>35.0</td>\n",
       "      <td>46.0</td>\n",
       "      <td>a</td>\n",
       "    </tr>\n",
       "    <tr>\n",
       "      <th>1</th>\n",
       "      <td>0.0</td>\n",
       "      <td>0.0</td>\n",
       "      <td>0.0</td>\n",
       "      <td>12.0</td>\n",
       "      <td>12.0</td>\n",
       "      <td>37.0</td>\n",
       "      <td>6.0</td>\n",
       "      <td>0.0</td>\n",
       "      <td>6.0</td>\n",
       "      <td>8.0</td>\n",
       "      <td>...</td>\n",
       "      <td>36.0</td>\n",
       "      <td>3.0</td>\n",
       "      <td>37.0</td>\n",
       "      <td>2.0</td>\n",
       "      <td>37.0</td>\n",
       "      <td>5.0</td>\n",
       "      <td>30.0</td>\n",
       "      <td>7.0</td>\n",
       "      <td>37.0</td>\n",
       "      <td>a</td>\n",
       "    </tr>\n",
       "    <tr>\n",
       "      <th>2</th>\n",
       "      <td>0.0</td>\n",
       "      <td>0.0</td>\n",
       "      <td>0.0</td>\n",
       "      <td>20.0</td>\n",
       "      <td>20.0</td>\n",
       "      <td>43.0</td>\n",
       "      <td>12.0</td>\n",
       "      <td>0.0</td>\n",
       "      <td>13.0</td>\n",
       "      <td>14.0</td>\n",
       "      <td>...</td>\n",
       "      <td>22.0</td>\n",
       "      <td>17.0</td>\n",
       "      <td>43.0</td>\n",
       "      <td>0.0</td>\n",
       "      <td>37.0</td>\n",
       "      <td>22.0</td>\n",
       "      <td>22.0</td>\n",
       "      <td>26.0</td>\n",
       "      <td>43.0</td>\n",
       "      <td>a</td>\n",
       "    </tr>\n",
       "    <tr>\n",
       "      <th>3</th>\n",
       "      <td>0.0</td>\n",
       "      <td>0.0</td>\n",
       "      <td>0.0</td>\n",
       "      <td>7.0</td>\n",
       "      <td>7.0</td>\n",
       "      <td>25.0</td>\n",
       "      <td>5.0</td>\n",
       "      <td>0.0</td>\n",
       "      <td>5.0</td>\n",
       "      <td>7.0</td>\n",
       "      <td>...</td>\n",
       "      <td>24.0</td>\n",
       "      <td>2.0</td>\n",
       "      <td>25.0</td>\n",
       "      <td>2.0</td>\n",
       "      <td>24.0</td>\n",
       "      <td>7.0</td>\n",
       "      <td>24.0</td>\n",
       "      <td>5.0</td>\n",
       "      <td>25.0</td>\n",
       "      <td>a</td>\n",
       "    </tr>\n",
       "    <tr>\n",
       "      <th>4</th>\n",
       "      <td>0.0</td>\n",
       "      <td>0.0</td>\n",
       "      <td>0.0</td>\n",
       "      <td>7.0</td>\n",
       "      <td>7.0</td>\n",
       "      <td>40.0</td>\n",
       "      <td>13.0</td>\n",
       "      <td>0.0</td>\n",
       "      <td>14.0</td>\n",
       "      <td>10.0</td>\n",
       "      <td>...</td>\n",
       "      <td>32.0</td>\n",
       "      <td>23.0</td>\n",
       "      <td>40.0</td>\n",
       "      <td>2.0</td>\n",
       "      <td>15.0</td>\n",
       "      <td>24.0</td>\n",
       "      <td>32.0</td>\n",
       "      <td>27.0</td>\n",
       "      <td>40.0</td>\n",
       "      <td>a</td>\n",
       "    </tr>\n",
       "  </tbody>\n",
       "</table>\n",
       "<p>5 rows × 49 columns</p>\n",
       "</div>"
      ],
      "text/plain": [
       "     0    1    2     3     4     5     6    7     8     9  ...    39    40  \\\n",
       "0  0.0  0.0  0.0  20.0  20.0  46.0   8.0  0.0   8.0  15.0  ...  42.0  30.0   \n",
       "1  0.0  0.0  0.0  12.0  12.0  37.0   6.0  0.0   6.0   8.0  ...  36.0   3.0   \n",
       "2  0.0  0.0  0.0  20.0  20.0  43.0  12.0  0.0  13.0  14.0  ...  22.0  17.0   \n",
       "3  0.0  0.0  0.0   7.0   7.0  25.0   5.0  0.0   5.0   7.0  ...  24.0   2.0   \n",
       "4  0.0  0.0  0.0   7.0   7.0  40.0  13.0  0.0  14.0  10.0  ...  32.0  23.0   \n",
       "\n",
       "     41    42    43    44    45    46    47  Label  \n",
       "0  46.0  19.0   8.0   8.0  42.0  35.0  46.0      a  \n",
       "1  37.0   2.0  37.0   5.0  30.0   7.0  37.0      a  \n",
       "2  43.0   0.0  37.0  22.0  22.0  26.0  43.0      a  \n",
       "3  25.0   2.0  24.0   7.0  24.0   5.0  25.0      a  \n",
       "4  40.0   2.0  15.0  24.0  32.0  27.0  40.0      a  \n",
       "\n",
       "[5 rows x 49 columns]"
      ]
     },
     "execution_count": 2,
     "metadata": {},
     "output_type": "execute_result"
    }
   ],
   "source": [
    "train_images = pd.read_csv(\"clean_data\\\\Train_data.csv\")\n",
    "test_images = pd.read_csv(\"clean_data\\\\Test_data.csv\")\n",
    "\n",
    "train_images.head()"
   ]
  },
  {
   "cell_type": "code",
   "execution_count": 3,
   "id": "04034437",
   "metadata": {},
   "outputs": [
    {
     "data": {
      "text/html": [
       "<div>\n",
       "<style scoped>\n",
       "    .dataframe tbody tr th:only-of-type {\n",
       "        vertical-align: middle;\n",
       "    }\n",
       "\n",
       "    .dataframe tbody tr th {\n",
       "        vertical-align: top;\n",
       "    }\n",
       "\n",
       "    .dataframe thead th {\n",
       "        text-align: right;\n",
       "    }\n",
       "</style>\n",
       "<table border=\"1\" class=\"dataframe\">\n",
       "  <thead>\n",
       "    <tr style=\"text-align: right;\">\n",
       "      <th></th>\n",
       "      <th>0</th>\n",
       "      <th>1</th>\n",
       "      <th>2</th>\n",
       "      <th>3</th>\n",
       "      <th>4</th>\n",
       "      <th>5</th>\n",
       "      <th>6</th>\n",
       "      <th>7</th>\n",
       "      <th>8</th>\n",
       "      <th>9</th>\n",
       "      <th>...</th>\n",
       "      <th>40</th>\n",
       "      <th>41</th>\n",
       "      <th>42</th>\n",
       "      <th>43</th>\n",
       "      <th>44</th>\n",
       "      <th>45</th>\n",
       "      <th>46</th>\n",
       "      <th>47</th>\n",
       "      <th>Image</th>\n",
       "      <th>Label</th>\n",
       "    </tr>\n",
       "  </thead>\n",
       "  <tbody>\n",
       "    <tr>\n",
       "      <th>0</th>\n",
       "      <td>0.0</td>\n",
       "      <td>0.0</td>\n",
       "      <td>0.0</td>\n",
       "      <td>13.0</td>\n",
       "      <td>13.0</td>\n",
       "      <td>45.0</td>\n",
       "      <td>13.0</td>\n",
       "      <td>0.0</td>\n",
       "      <td>14.0</td>\n",
       "      <td>14.0</td>\n",
       "      <td>...</td>\n",
       "      <td>24.0</td>\n",
       "      <td>45.0</td>\n",
       "      <td>0.0</td>\n",
       "      <td>27.0</td>\n",
       "      <td>23.0</td>\n",
       "      <td>39.0</td>\n",
       "      <td>25.0</td>\n",
       "      <td>45.0</td>\n",
       "      <td>[[ 0.  0.  0. 13. 13. 45.]\\n [13.  0. 14. 14. ...</td>\n",
       "      <td>a</td>\n",
       "    </tr>\n",
       "    <tr>\n",
       "      <th>1</th>\n",
       "      <td>0.0</td>\n",
       "      <td>0.0</td>\n",
       "      <td>0.0</td>\n",
       "      <td>20.0</td>\n",
       "      <td>20.0</td>\n",
       "      <td>37.0</td>\n",
       "      <td>7.0</td>\n",
       "      <td>0.0</td>\n",
       "      <td>7.0</td>\n",
       "      <td>10.0</td>\n",
       "      <td>...</td>\n",
       "      <td>11.0</td>\n",
       "      <td>37.0</td>\n",
       "      <td>8.0</td>\n",
       "      <td>36.0</td>\n",
       "      <td>9.0</td>\n",
       "      <td>22.0</td>\n",
       "      <td>14.0</td>\n",
       "      <td>37.0</td>\n",
       "      <td>[[ 0.  0.  0. 20. 20. 37.]\\n [ 7.  0.  7. 10. ...</td>\n",
       "      <td>a</td>\n",
       "    </tr>\n",
       "    <tr>\n",
       "      <th>2</th>\n",
       "      <td>0.0</td>\n",
       "      <td>0.0</td>\n",
       "      <td>0.0</td>\n",
       "      <td>16.0</td>\n",
       "      <td>16.0</td>\n",
       "      <td>26.0</td>\n",
       "      <td>3.0</td>\n",
       "      <td>0.0</td>\n",
       "      <td>3.0</td>\n",
       "      <td>16.0</td>\n",
       "      <td>...</td>\n",
       "      <td>11.0</td>\n",
       "      <td>26.0</td>\n",
       "      <td>7.0</td>\n",
       "      <td>15.0</td>\n",
       "      <td>2.0</td>\n",
       "      <td>26.0</td>\n",
       "      <td>12.0</td>\n",
       "      <td>26.0</td>\n",
       "      <td>[[ 0.  0.  0. 16. 16. 26.]\\n [ 3.  0.  3. 16. ...</td>\n",
       "      <td>a</td>\n",
       "    </tr>\n",
       "    <tr>\n",
       "      <th>3</th>\n",
       "      <td>0.0</td>\n",
       "      <td>0.0</td>\n",
       "      <td>0.0</td>\n",
       "      <td>15.0</td>\n",
       "      <td>15.0</td>\n",
       "      <td>45.0</td>\n",
       "      <td>11.0</td>\n",
       "      <td>0.0</td>\n",
       "      <td>11.0</td>\n",
       "      <td>9.0</td>\n",
       "      <td>...</td>\n",
       "      <td>13.0</td>\n",
       "      <td>45.0</td>\n",
       "      <td>7.0</td>\n",
       "      <td>44.0</td>\n",
       "      <td>13.0</td>\n",
       "      <td>16.0</td>\n",
       "      <td>28.0</td>\n",
       "      <td>45.0</td>\n",
       "      <td>[[ 0.  0.  0. 15. 15. 45.]\\n [11.  0. 11.  9. ...</td>\n",
       "      <td>a</td>\n",
       "    </tr>\n",
       "    <tr>\n",
       "      <th>4</th>\n",
       "      <td>0.0</td>\n",
       "      <td>0.0</td>\n",
       "      <td>0.0</td>\n",
       "      <td>8.0</td>\n",
       "      <td>8.0</td>\n",
       "      <td>29.0</td>\n",
       "      <td>10.0</td>\n",
       "      <td>0.0</td>\n",
       "      <td>10.0</td>\n",
       "      <td>10.0</td>\n",
       "      <td>...</td>\n",
       "      <td>13.0</td>\n",
       "      <td>29.0</td>\n",
       "      <td>23.0</td>\n",
       "      <td>13.0</td>\n",
       "      <td>15.0</td>\n",
       "      <td>18.0</td>\n",
       "      <td>9.0</td>\n",
       "      <td>29.0</td>\n",
       "      <td>[[ 0.  0.  0.  8.  8. 29.]\\n [10.  0. 10. 10. ...</td>\n",
       "      <td>a</td>\n",
       "    </tr>\n",
       "  </tbody>\n",
       "</table>\n",
       "<p>5 rows × 50 columns</p>\n",
       "</div>"
      ],
      "text/plain": [
       "     0    1    2     3     4     5     6    7     8     9  ...    40    41  \\\n",
       "0  0.0  0.0  0.0  13.0  13.0  45.0  13.0  0.0  14.0  14.0  ...  24.0  45.0   \n",
       "1  0.0  0.0  0.0  20.0  20.0  37.0   7.0  0.0   7.0  10.0  ...  11.0  37.0   \n",
       "2  0.0  0.0  0.0  16.0  16.0  26.0   3.0  0.0   3.0  16.0  ...  11.0  26.0   \n",
       "3  0.0  0.0  0.0  15.0  15.0  45.0  11.0  0.0  11.0   9.0  ...  13.0  45.0   \n",
       "4  0.0  0.0  0.0   8.0   8.0  29.0  10.0  0.0  10.0  10.0  ...  13.0  29.0   \n",
       "\n",
       "     42    43    44    45    46    47  \\\n",
       "0   0.0  27.0  23.0  39.0  25.0  45.0   \n",
       "1   8.0  36.0   9.0  22.0  14.0  37.0   \n",
       "2   7.0  15.0   2.0  26.0  12.0  26.0   \n",
       "3   7.0  44.0  13.0  16.0  28.0  45.0   \n",
       "4  23.0  13.0  15.0  18.0   9.0  29.0   \n",
       "\n",
       "                                               Image  Label  \n",
       "0  [[ 0.  0.  0. 13. 13. 45.]\\n [13.  0. 14. 14. ...      a  \n",
       "1  [[ 0.  0.  0. 20. 20. 37.]\\n [ 7.  0.  7. 10. ...      a  \n",
       "2  [[ 0.  0.  0. 16. 16. 26.]\\n [ 3.  0.  3. 16. ...      a  \n",
       "3  [[ 0.  0.  0. 15. 15. 45.]\\n [11.  0. 11.  9. ...      a  \n",
       "4  [[ 0.  0.  0.  8.  8. 29.]\\n [10.  0. 10. 10. ...      a  \n",
       "\n",
       "[5 rows x 50 columns]"
      ]
     },
     "execution_count": 3,
     "metadata": {},
     "output_type": "execute_result"
    }
   ],
   "source": [
    "test_images.head()"
   ]
  },
  {
   "cell_type": "code",
   "execution_count": 4,
   "id": "704ca07e",
   "metadata": {},
   "outputs": [],
   "source": [
    "images = []\n",
    "for image in test_images[\"Image\"]:\n",
    "    image_split = image.split(\"[\")\n",
    "    img = []\n",
    "    for i in range(2, len(image_split)):\n",
    "        pixels = image_split[i].split(']')[0]\n",
    "        pixels = pixels.split()\n",
    "        \n",
    "        img.append(pixels)\n",
    "    \n",
    "    images.append(np.array(img, dtype='float32'))\n",
    "    \n",
    "test_images[\"Image\"] = images"
   ]
  },
  {
   "cell_type": "code",
   "execution_count": 5,
   "id": "6d3464fc",
   "metadata": {},
   "outputs": [
    {
     "data": {
      "text/plain": [
       "0       [[0.0, 0.0, 0.0, 13.0, 13.0, 45.0], [13.0, 0.0...\n",
       "1       [[0.0, 0.0, 0.0, 20.0, 20.0, 37.0], [7.0, 0.0,...\n",
       "2       [[0.0, 0.0, 0.0, 16.0, 16.0, 26.0], [3.0, 0.0,...\n",
       "3       [[0.0, 0.0, 0.0, 15.0, 15.0, 45.0], [11.0, 0.0...\n",
       "4       [[0.0, 0.0, 0.0, 8.0, 8.0, 29.0], [10.0, 0.0, ...\n",
       "                              ...                        \n",
       "4995    [[0.0, 0.0, 1.0, 30.0, 30.0, 49.0], [1.0, 24.0...\n",
       "4996    [[0.0, 0.0, 2.0, 29.0, 29.0, 67.0], [2.0, 29.0...\n",
       "4997    [[0.0, 0.0, 0.0, 34.0, 34.0, 61.0], [0.0, 21.0...\n",
       "4998    [[0.0, 0.0, 0.0, 28.0, 28.0, 40.0], [0.0, 28.0...\n",
       "4999    [[0.0, 0.0, 0.0, 37.0, 37.0, 63.0], [0.0, 30.0...\n",
       "Name: Image, Length: 5000, dtype: object"
      ]
     },
     "execution_count": 5,
     "metadata": {},
     "output_type": "execute_result"
    }
   ],
   "source": [
    "test_images[\"Image\"]"
   ]
  },
  {
   "cell_type": "markdown",
   "id": "4b42977f",
   "metadata": {},
   "source": [
    "# Modelling"
   ]
  },
  {
   "cell_type": "code",
   "execution_count": 6,
   "id": "11492d08",
   "metadata": {},
   "outputs": [],
   "source": [
    "X = train_images.drop(columns=[\"Label\"])\n",
    "y = train_images[\"Label\"]"
   ]
  },
  {
   "cell_type": "code",
   "execution_count": 7,
   "id": "81f5d558",
   "metadata": {},
   "outputs": [
    {
     "data": {
      "text/plain": [
       "RandomForestClassifier()"
      ]
     },
     "execution_count": 7,
     "metadata": {},
     "output_type": "execute_result"
    }
   ],
   "source": [
    "X_train, X_test, y_train, y_test = train_test_split(X, y, test_size=0.33, random_state=42)\n",
    "\n",
    "svm = SVC(probability=True)\n",
    "svm.fit(X_train, y_train)\n",
    "\n",
    "rf = RandomForestClassifier()\n",
    "rf.fit(X_train, y_train)"
   ]
  },
  {
   "cell_type": "code",
   "execution_count": 8,
   "id": "21ed2331",
   "metadata": {},
   "outputs": [
    {
     "name": "stdout",
     "output_type": "stream",
     "text": [
      "svm train score : 0.9761194029850746\n",
      "random forest train score : 1.0\n",
      "----------\n",
      "svm test score : 0.9515151515151515\n",
      "random forest test score : 0.9848484848484849\n",
      "----------\n",
      "svm error score : 0.024604251469923066\n",
      "random forest error score : 0.015151515151515138\n"
     ]
    }
   ],
   "source": [
    "svm_score_train = svm.score(X_train, y_train)\n",
    "rf_score_train = rf.score(X_train, y_train)\n",
    "\n",
    "svm_score_test = svm.score(X_test, y_test)\n",
    "rf_score_test = rf.score(X_test, y_test)\n",
    "\n",
    "svm_error = svm_score_train - svm_score_test\n",
    "rf_error = rf_score_train - rf_score_test\n",
    "\n",
    "train_scores = {\"svm\":svm_score_train,\n",
    "                \"random forest\":rf_score_train}\n",
    "\n",
    "test_scores = {\"svm\":svm_score_test,\n",
    "               \"random forest\":rf_score_test}\n",
    "\n",
    "error_scores = {\"svm\":svm_error,\n",
    "               \"random forest\":rf_error}\n",
    "\n",
    "for model ,score in train_scores.items():\n",
    "    print(f\"{model} train score : {score}\")\n",
    "    \n",
    "print(\"-\"*10)\n",
    "\n",
    "for model, score in test_scores.items():\n",
    "    print(f\"{model} test score : {score}\")\n",
    "    \n",
    "print(\"-\"*10)\n",
    "\n",
    "for model, score in error_scores.items():\n",
    "    print(f\"{model} error score : {score}\")"
   ]
  },
  {
   "cell_type": "code",
   "execution_count": 9,
   "id": "112787a9",
   "metadata": {},
   "outputs": [
    {
     "name": "stdout",
     "output_type": "stream",
     "text": [
      "Fold 1\n",
      "-------------------------------------\n",
      "Train score\n",
      "Random forest train score = 1.0\n",
      "SVM train score = 0.9775\n",
      "----------\n",
      "Test score\n",
      "Random forest test score = 1.0\n",
      "SVM test score = 0.97\n",
      "----------\n",
      "Error score\n",
      "Random forest error score = 0.0\n",
      "SVM error score = 0.007500000000000062\n",
      "----------\n",
      "Fold 2\n",
      "-------------------------------------\n",
      "Train score\n",
      "Random forest train score = 1.0\n",
      "SVM train score = 0.98125\n",
      "----------\n",
      "Test score\n",
      "Random forest test score = 0.99\n",
      "SVM test score = 0.98\n",
      "----------\n",
      "Error score\n",
      "Random forest error score = 0.010000000000000009\n",
      "SVM error score = 0.0012499999999999734\n",
      "----------\n",
      "Fold 3\n",
      "-------------------------------------\n",
      "Train score\n",
      "Random forest train score = 1.0\n",
      "SVM train score = 0.98125\n",
      "----------\n",
      "Test score\n",
      "Random forest test score = 0.995\n",
      "SVM test score = 0.98\n",
      "----------\n",
      "Error score\n",
      "Random forest error score = 0.0050000000000000044\n",
      "SVM error score = 0.0012499999999999734\n",
      "----------\n",
      "Fold 4\n",
      "-------------------------------------\n",
      "Train score\n",
      "Random forest train score = 1.0\n",
      "SVM train score = 0.98125\n",
      "----------\n",
      "Test score\n",
      "Random forest test score = 1.0\n",
      "SVM test score = 0.98\n",
      "----------\n",
      "Error score\n",
      "Random forest error score = 0.0\n",
      "SVM error score = 0.0012499999999999734\n",
      "----------\n",
      "Fold 5\n",
      "-------------------------------------\n",
      "Train score\n",
      "Random forest train score = 1.0\n",
      "SVM train score = 0.975\n",
      "----------\n",
      "Test score\n",
      "Random forest test score = 1.0\n",
      "SVM test score = 0.975\n",
      "----------\n",
      "Error score\n",
      "Random forest error score = 0.0\n",
      "SVM error score = 0.0\n",
      "----------\n",
      "Mean\n",
      "-------------------------------------\n",
      "Train\n",
      "Random Forest mean train score = 1.0\n",
      "SVM mean train score = 0.9792499999999998\n",
      "----------\n",
      "Test\n",
      "Random Forest mean test score = 0.9969999999999999\n",
      "SVM mean test score = 0.977\n",
      "----------\n",
      "Error\n",
      "Random Forest mean error score = 0.0030000000000001137\n",
      "SVM mean error score = 0.0022499999999998632\n"
     ]
    }
   ],
   "source": [
    "N = 5\n",
    "skf = StratifiedKFold(n_splits=N, random_state=42, shuffle=True)\n",
    "svm = SVC()\n",
    "rf = RandomForestClassifier()\n",
    "\n",
    "svm_test_scores = []\n",
    "rf_test_scores = []\n",
    "\n",
    "svm_train_scores = []\n",
    "rf_train_scores = []\n",
    "\n",
    "for fold, (trn_index, val_index) in enumerate(skf.split(X, y), 1):\n",
    "    print(f\"Fold {fold}\\n-------------------------------------\")\n",
    "    \n",
    "    svm.fit(X.iloc[trn_index], y.iloc[trn_index])\n",
    "    rf.fit(X.iloc[trn_index], y.iloc[trn_index])\n",
    "    \n",
    "    rf_train_score = rf.score(X.iloc[trn_index], y.iloc[trn_index])\n",
    "    svm_train_score = svm.score(X.iloc[trn_index], y.iloc[trn_index])\n",
    "    \n",
    "    rf_test_score = rf.score(X.iloc[val_index], y.iloc[val_index])\n",
    "    svm_test_score = svm.score(X.iloc[val_index], y.iloc[val_index])\n",
    "    \n",
    "    # Train\n",
    "    print(\"Train score\")\n",
    "    print(f\"Random forest train score = {rf_train_score}\")\n",
    "    print(f\"SVM train score = {svm_train_score}\")\n",
    "    rf_train_scores.append(rf_train_score)\n",
    "    svm_train_scores.append(svm_train_score)\n",
    "    \n",
    "    print(\"-\"*10)\n",
    "    \n",
    "    # Test\n",
    "    print(\"Test score\")\n",
    "    print(f\"Random forest test score = {rf_test_score}\")\n",
    "    print(f\"SVM test score = {svm_test_score}\")\n",
    "    rf_test_scores.append(rf_test_score)\n",
    "    svm_test_scores.append(svm_test_score)\n",
    "    \n",
    "    print(\"-\"*10)\n",
    "    \n",
    "    # Error\n",
    "    print(\"Error score\")\n",
    "    print(f\"Random forest error score = {rf_train_score - rf_test_score}\")\n",
    "    print(f\"SVM error score = {svm_train_score - svm_test_score}\")\n",
    "    \n",
    "    print(\"-\"*10)\n",
    "    \n",
    "rf_mean_train_score = np.mean(rf_train_scores)\n",
    "svm_mean_train_score = np.mean(svm_train_scores)\n",
    "\n",
    "rf_mean_test_score = np.mean(rf_test_scores)\n",
    "svm_mean_test_score = np.mean(svm_test_scores)\n",
    "\n",
    "rf_mean_error_score = rf_mean_train_score - rf_mean_test_score\n",
    "svm_mean_error_score = svm_mean_train_score - svm_mean_test_score\n",
    "\n",
    "\n",
    "# Mean\n",
    "print(\"Mean\\n-------------------------------------\")\n",
    "\n",
    "print(\"Train\")\n",
    "print(f\"Random Forest mean train score = {rf_mean_train_score}\")\n",
    "print(f\"SVM mean train score = {svm_mean_train_score}\")\n",
    "\n",
    "print(\"-\"*10)\n",
    "\n",
    "print(\"Test\")\n",
    "print(f\"Random Forest mean test score = {rf_mean_test_score}\")\n",
    "print(f\"SVM mean test score = {svm_mean_test_score}\")\n",
    "\n",
    "print(\"-\"*10)\n",
    "\n",
    "print(\"Error\")\n",
    "print(f\"Random Forest mean error score = {rf_mean_error_score}\")\n",
    "print(f\"SVM mean error score = {svm_mean_error_score}\")"
   ]
  },
  {
   "cell_type": "markdown",
   "id": "cac863da",
   "metadata": {},
   "source": [
    "# Prediction"
   ]
  },
  {
   "cell_type": "code",
   "execution_count": 10,
   "id": "9baf019d",
   "metadata": {},
   "outputs": [],
   "source": [
    "X_train = train_images.drop(columns=[\"Label\"])\n",
    "y_train = train_images[\"Label\"]\n",
    "\n",
    "X_test = test_images.drop(columns=[\"Label\", \"Image\"])\n",
    "y_test = test_images[\"Label\"]"
   ]
  },
  {
   "cell_type": "code",
   "execution_count": 11,
   "id": "4d284d37",
   "metadata": {},
   "outputs": [
    {
     "data": {
      "text/plain": [
       "SVC()"
      ]
     },
     "execution_count": 11,
     "metadata": {},
     "output_type": "execute_result"
    }
   ],
   "source": [
    "rf = RandomForestClassifier()\n",
    "rf.fit(X_train, y_train)\n",
    "\n",
    "svm = SVC()\n",
    "svm.fit(X_train, y_train)"
   ]
  },
  {
   "cell_type": "code",
   "execution_count": 12,
   "id": "29c15e98",
   "metadata": {},
   "outputs": [
    {
     "data": {
      "text/plain": [
       "0.997"
      ]
     },
     "execution_count": 12,
     "metadata": {},
     "output_type": "execute_result"
    }
   ],
   "source": [
    "rf.score(X_test, y_test)"
   ]
  },
  {
   "cell_type": "code",
   "execution_count": 13,
   "id": "e3bbcf5a",
   "metadata": {},
   "outputs": [
    {
     "data": {
      "text/plain": [
       "0.9848"
      ]
     },
     "execution_count": 13,
     "metadata": {},
     "output_type": "execute_result"
    }
   ],
   "source": [
    "svm.score(X_test, y_test)"
   ]
  },
  {
   "cell_type": "markdown",
   "id": "61166761",
   "metadata": {},
   "source": [
    "# Visualize image"
   ]
  },
  {
   "cell_type": "code",
   "execution_count": 14,
   "id": "a22ef044",
   "metadata": {},
   "outputs": [],
   "source": [
    "def plot_imshow(data, random=False, label=None, model=None):\n",
    "    if random:\n",
    "        if type(label) == str:\n",
    "            fig, ax = plt.subplots(figsize=(15, 9), nrows=2, ncols=2)\n",
    "            \n",
    "            index = []\n",
    "            for i in range(4):\n",
    "                min_ = np.min(data[data[\"Label\"] == label].index)\n",
    "                max_ = np.max(data[data[\"Label\"] == label].index)\n",
    "                rand = np.random.randint(min_, max_)\n",
    "                \n",
    "                index.append(rand)\n",
    "                \n",
    "            for i in range(4):\n",
    "                if i < 2:\n",
    "                    image = data.iloc[index[i]][\"Image\"]\n",
    "                    image = Image.fromarray(image).convert(\"L\")\n",
    "                    ax[i, 0].imshow(image)\n",
    "                    ax[i, 0].set_title(f\"Plot image label '{label}' in {index[i]} Index\")\n",
    "                elif i >= 2:\n",
    "                    i_ = i - 2\n",
    "                    image = data.iloc[index[i]][\"Image\"]\n",
    "                    image = Image.fromarray(image).convert(\"L\")\n",
    "                    ax[i_, 1].imshow(image)\n",
    "                    ax[i_, 1].set_title(f\"Plot image label '{label}' in {index[i]} Index\")\n",
    "                    \n",
    "            if model != None:\n",
    "                print(\"----------------------------------\")\n",
    "                for ind in index:\n",
    "                    X = data.drop(columns=[\"Image\", \"Label\"])\n",
    "                    X = X.iloc[[ind]]\n",
    "                    \n",
    "                    act_y = data.iloc[ind][\"Label\"]\n",
    "                    pred_y = model.predict(X)\n",
    "                    \n",
    "                    print(f\"index {ind} actual output {act_y}\")\n",
    "                    print(f\"index {ind} predict output {pred_y}\")\n",
    "                    print(\"------------------------------------\")\n",
    "            \n",
    "            \n",
    "            return plt.show()\n",
    "        \n",
    "        elif type(label) == list and len(label) < 5:\n",
    "            fig, ax = plt.subplots(figsize=(15, 9), nrows=2, ncols=2)\n",
    "            \n",
    "            index = []\n",
    "            for i in range(len(label)):\n",
    "                min_ = np.min(data[data[\"Label\"] == label[i]].index)\n",
    "                max_ = np.max(data[data[\"Label\"] == label[i]].index)\n",
    "                rand = np.random.randint(min_, max_)\n",
    "                \n",
    "                index.append(rand)\n",
    "                \n",
    "                if len(index) == len(label):\n",
    "                    for j in range(len(index)):\n",
    "                        if j < 2:\n",
    "                            image = data.iloc[index[j]][\"Image\"]\n",
    "                            image = Image.fromarray(image).convert(\"L\")\n",
    "                            ax[j, 0].imshow(image)\n",
    "                            ax[j, 0].set_title(f\"Plot image label '{label[j]}' in {index[j]} Index\")\n",
    "                        elif j >= 2:\n",
    "                            i_ = j - 2\n",
    "                            image = data.iloc[index[j]][\"Image\"]\n",
    "                            image = Image.fromarray(image).convert(\"L\")\n",
    "                            ax[i_, 1].imshow(image)\n",
    "                            ax[i_, 1].set_title(f\"Plot image label '{label[j]}' in {index[j]} Index\")\n",
    "                          \n",
    "            if model != None:\n",
    "                print(\"----------------------------------\")\n",
    "                for ind in index:\n",
    "                    X = data.drop(columns=[\"Image\", \"Label\"])\n",
    "                    X = X.iloc[[ind]]\n",
    "                    \n",
    "                    act_y = data.iloc[ind][\"Label\"]\n",
    "                    pred_y = model.predict(X)\n",
    "                    \n",
    "                    print(f\"index {ind} actual output {act_y}\")\n",
    "                    print(f\"index {ind} predict output {pred_y}\")\n",
    "                    print(\"------------------------------------\")\n",
    "\n",
    "            return plt.show()\n",
    "        \n",
    "        else:\n",
    "            print(\"filled label argument with list type or string\")\n",
    "            print(\"if filled by type list make sure to add less than 5\")\n",
    "            return 0\n",
    "    else:\n",
    "        if type(label) == str:\n",
    "            fig, ax = plt.subplots(figsize=(15, 9), nrows=2, ncols=2)\n",
    "                \n",
    "            for i in range(2):\n",
    "                image = list(data[data[\"Label\"] == label][\"Image\"])[i]\n",
    "                image = Image.fromarray(image).convert(\"L\")\n",
    "                ax[i, 0].imshow(image)\n",
    "                ax[i, 0].set_title(f\"Plot image label '{label}'\")\n",
    "                \n",
    "            for i in range(2):\n",
    "                image = list(data[data[\"Label\"] == label][\"Image\"])[2+i]\n",
    "                image = Image.fromarray(image).convert(\"L\")\n",
    "                ax[i, 1].imshow(image)\n",
    "                ax[i, 1].set_title(f\"Plot image label '{label}'\")\n",
    "                \n",
    "            if model != None:\n",
    "                print(\"----------------------------------\")\n",
    "                for i in range(4):\n",
    "                    low_ind = np.min(data[data[\"Label\"] == label].index)\n",
    "                    X = data[data[\"Label\"] == label].loc[[low_ind]]\n",
    "                    X = X.drop(columns=[\"Label\", \"Image\"])\n",
    "                    \n",
    "                    act_y = label\n",
    "                    pred_y = model.predict(X)\n",
    "                    \n",
    "                    print(f\"actual output {act_y}\")\n",
    "                    print(f\"predict output {pred_y}\")\n",
    "                    print(\"------------------------------------\")\n",
    "                    \n",
    "            return plt.show()\n",
    "        elif type(label) == list:\n",
    "            fig, ax = plt.subplots(figsize=(15, 9), nrows=2, ncols=2)\n",
    "            \n",
    "            for i in range(len(label)):\n",
    "                image = list(data[data[\"Label\"] == label[i]][\"Image\"])[0]\n",
    "                image = Image.fromarray(image).convert(\"L\")\n",
    "                if i < 2:\n",
    "                    ax[i, 0].imshow(image)\n",
    "                    ax[i, 0].set_title(f\"Plot image label '{label[i]}'\")\n",
    "                elif i >= 2:\n",
    "                    i_ = i - 2\n",
    "                    ax[i_, 1].imshow(image)\n",
    "                    ax[i_, 1].set_title(f\"Plot image label '{label[i]}'\")\n",
    "                    \n",
    "            if model != None:\n",
    "                print(\"----------------------------------\")\n",
    "                for lbl in label:\n",
    "                    low_ind = np.min(data[data[\"Label\"] == lbl].index)\n",
    "                    X = data[data[\"Label\"] == lbl].loc[[low_ind]]\n",
    "                    X = X.drop(columns=[\"Label\", \"Image\"])\n",
    "                    \n",
    "                    act_y = lbl\n",
    "                    pred_y = model.predict(X)\n",
    "                    \n",
    "                    print(f\"actual output {act_y}\")\n",
    "                    print(f\"predict output {pred_y}\")\n",
    "                    print(\"------------------------------------\")\n",
    "                    \n",
    "\n",
    "            return plt.show()\n",
    "        else:\n",
    "            print(\"filled label argument with list type or string\")\n",
    "            print(\"if filled by type list make sure to add less than 5\")\n",
    "            return 0"
   ]
  },
  {
   "cell_type": "code",
   "execution_count": 15,
   "id": "f9a2d5bd",
   "metadata": {},
   "outputs": [
    {
     "data": {
      "image/png": "[encoded data removed]",
      "text/plain": [
       "<Figure size 1080x648 with 4 Axes>"
      ]
     },
     "metadata": {
      "needs_background": "light"
     },
     "output_type": "display_data"
    }
   ],
   "source": [
    "plot_imshow(test_images, random=True, label=\"a\")"
   ]
  },
  {
   "cell_type": "code",
   "execution_count": 16,
   "id": "c7dacaf7",
   "metadata": {},
   "outputs": [
    {
     "data": {
      "image/png": "[encoded data removed]",
      "text/plain": [
       "<Figure size 1080x648 with 4 Axes>"
      ]
     },
     "metadata": {
      "needs_background": "light"
     },
     "output_type": "display_data"
    }
   ],
   "source": [
    "plot_imshow(test_images, random=True, label=[\"a\", \"h\", \"d\", 'l'])"
   ]
  },
  {
   "cell_type": "code",
   "execution_count": 17,
   "id": "53911bcc",
   "metadata": {},
   "outputs": [
    {
     "data": {
      "image/png": "[encoded data removed]",
      "text/plain": [
       "<Figure size 1080x648 with 4 Axes>"
      ]
     },
     "metadata": {
      "needs_background": "light"
     },
     "output_type": "display_data"
    }
   ],
   "source": [
    "plot_imshow(test_images, label='e')"
   ]
  },
  {
   "cell_type": "code",
   "execution_count": 18,
   "id": "a7cb1541",
   "metadata": {},
   "outputs": [
    {
     "data": {
      "image/png": "[encoded data removed]",
      "text/plain": [
       "<Figure size 1080x648 with 4 Axes>"
      ]
     },
     "metadata": {
      "needs_background": "light"
     },
     "output_type": "display_data"
    }
   ],
   "source": [
    "plot_imshow(test_images, label=['d', 'a', 'l', 'e'])"
   ]
  },
  {
   "cell_type": "code",
   "execution_count": 19,
   "id": "6fcffcc8",
   "metadata": {},
   "outputs": [
    {
     "name": "stdout",
     "output_type": "stream",
     "text": [
      "----------------------------------\n",
      "index 890 actual output c\n",
      "index 890 predict output ['c']\n",
      "------------------------------------\n",
      "index 728 actual output c\n",
      "index 728 predict output ['c']\n",
      "------------------------------------\n",
      "index 511 actual output c\n",
      "index 511 predict output ['c']\n",
      "------------------------------------\n",
      "index 906 actual output c\n",
      "index 906 predict output ['c']\n",
      "------------------------------------\n"
     ]
    },
    {
     "data": {
      "image/png": "[encoded data removed]",
      "text/plain": [
       "<Figure size 1080x648 with 4 Axes>"
      ]
     },
     "metadata": {
      "needs_background": "light"
     },
     "output_type": "display_data"
    }
   ],
   "source": [
    "plot_imshow(test_images, random=True, label='c', model=svm)"
   ]
  },
  {
   "cell_type": "code",
   "execution_count": 20,
   "id": "1ed749d5",
   "metadata": {},
   "outputs": [
    {
     "name": "stdout",
     "output_type": "stream",
     "text": [
      "----------------------------------\n",
      "index 140 actual output a\n",
      "index 140 predict output ['a']\n",
      "------------------------------------\n",
      "index 3092 actual output h\n",
      "index 3092 predict output ['h']\n",
      "------------------------------------\n",
      "index 2573 actual output g\n",
      "index 2573 predict output ['g']\n",
      "------------------------------------\n",
      "index 3595 actual output l\n",
      "index 3595 predict output ['l']\n",
      "------------------------------------\n"
     ]
    },
    {
     "data": {
      "image/png": "[encoded data removed]",
      "text/plain": [
       "<Figure size 1080x648 with 4 Axes>"
      ]
     },
     "metadata": {
      "needs_background": "light"
     },
     "output_type": "display_data"
    }
   ],
   "source": [
    "plot_imshow(test_images, random=True, label=['a', 'h', 'g', 'l'], model=svm)"
   ]
  },
  {
   "cell_type": "code",
   "execution_count": 21,
   "id": "fbdc3fcd",
   "metadata": {},
   "outputs": [
    {
     "name": "stdout",
     "output_type": "stream",
     "text": [
      "----------------------------------\n",
      "actual output g\n",
      "predict output ['g']\n",
      "------------------------------------\n",
      "actual output g\n",
      "predict output ['g']\n",
      "------------------------------------\n",
      "actual output g\n",
      "predict output ['g']\n",
      "------------------------------------\n",
      "actual output g\n",
      "predict output ['g']\n",
      "------------------------------------\n"
     ]
    },
    {
     "data": {
      "image/png": "[encoded data removed]",
      "text/plain": [
       "<Figure size 1080x648 with 4 Axes>"
      ]
     },
     "metadata": {
      "needs_background": "light"
     },
     "output_type": "display_data"
    }
   ],
   "source": [
    "plot_imshow(test_images, label='g', model=svm)"
   ]
  },
  {
   "cell_type": "code",
   "execution_count": 22,
   "id": "457512a1",
   "metadata": {},
   "outputs": [
    {
     "name": "stdout",
     "output_type": "stream",
     "text": [
      "----------------------------------\n",
      "actual output a\n",
      "predict output ['a']\n",
      "------------------------------------\n",
      "actual output h\n",
      "predict output ['h']\n",
      "------------------------------------\n",
      "actual output c\n",
      "predict output ['c']\n",
      "------------------------------------\n",
      "actual output d\n",
      "predict output ['d']\n",
      "------------------------------------\n"
     ]
    },
    {
     "data": {
      "image/png": "[encoded data removed]",
      "text/plain": [
       "<Figure size 1080x648 with 4 Axes>"
      ]
     },
     "metadata": {
      "needs_background": "light"
     },
     "output_type": "display_data"
    }
   ],
   "source": [
    "plot_imshow(test_images, label=['a', 'h', 'c', 'd'], model=svm)"
   ]
  }
 ],
 "metadata": {
  "kernelspec": {
   "display_name": "Python 3",
   "language": "python",
   "name": "python3"
  },
  "language_info": {
   "codemirror_mode": {
    "name": "ipython",
    "version": 3
   },
   "file_extension": ".py",
   "mimetype": "text/x-python",
   "name": "python",
   "nbconvert_exporter": "python",
   "pygments_lexer": "ipython3",
   "version": "3.8.8"
  }
 },
 "nbformat": 4,
 "nbformat_minor": 5
}
